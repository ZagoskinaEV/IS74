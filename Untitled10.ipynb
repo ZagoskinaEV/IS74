{
  "nbformat": 4,
  "nbformat_minor": 0,
  "metadata": {
    "colab": {
      "name": "Untitled10.ipynb",
      "provenance": [],
      "collapsed_sections": [],
      "include_colab_link": true
    },
    "kernelspec": {
      "name": "python3",
      "display_name": "Python 3"
    }
  },
  "cells": [
    {
      "cell_type": "markdown",
      "metadata": {
        "id": "view-in-github",
        "colab_type": "text"
      },
      "source": [
        "<a href=\"https://colab.research.google.com/github/ZagoskinaEV/IS74/blob/master/Untitled10.ipynb\" target=\"_parent\"><img src=\"https://colab.research.google.com/assets/colab-badge.svg\" alt=\"Open In Colab\"/></a>"
      ]
    },
    {
      "cell_type": "code",
      "metadata": {
        "id": "A5KOKCpRRS6c",
        "colab_type": "code",
        "colab": {}
      },
      "source": [
        "import pandas as pd\n",
        "df = pd.read_csv(\"drive/data/logs_mp_october.csv\")"
      ],
      "execution_count": 0,
      "outputs": []
    },
    {
      "cell_type": "code",
      "metadata": {
        "id": "Q-kl6eF4UXt1",
        "colab_type": "code",
        "colab": {}
      },
      "source": [
        "#выделим датафрейм с нужными нам столбцами\n",
        "df1 = df.loc[:,['track_id', 'user_id']]"
      ],
      "execution_count": 0,
      "outputs": []
    },
    {
      "cell_type": "code",
      "metadata": {
        "id": "lmwxtR05TwGt",
        "colab_type": "code",
        "outputId": "ea7060f2-d97a-4ad1-8c22-3065904b17a3",
        "colab": {
          "base_uri": "https://localhost:8080/",
          "height": 228
        }
      },
      "source": [
        "#определим самую популярную страницу (после Главного экрана)\n",
        "#для этого вычислим сколько пользователей переходило на эту страницу\n",
        "#первым шагом из df1 удалим дубликаты, чтобы убрать те строки,\n",
        "#где находится информация об обновлениях страницы одним человеком\n",
        "df2 = df1.drop_duplicates()\n",
        "#при помощи группировки и сортировки выведем топ-5 самых посещаемых страниц\n",
        "df2.groupby(['track_id']).count().sort_values(['user_id'], ascending = False).head()"
      ],
      "execution_count": 11,
      "outputs": [
        {
          "output_type": "execute_result",
          "data": {
            "text/html": [
              "<div>\n",
              "<style scoped>\n",
              "    .dataframe tbody tr th:only-of-type {\n",
              "        vertical-align: middle;\n",
              "    }\n",
              "\n",
              "    .dataframe tbody tr th {\n",
              "        vertical-align: top;\n",
              "    }\n",
              "\n",
              "    .dataframe thead th {\n",
              "        text-align: right;\n",
              "    }\n",
              "</style>\n",
              "<table border=\"1\" class=\"dataframe\">\n",
              "  <thead>\n",
              "    <tr style=\"text-align: right;\">\n",
              "      <th></th>\n",
              "      <th>user_id</th>\n",
              "    </tr>\n",
              "    <tr>\n",
              "      <th>track_id</th>\n",
              "      <th></th>\n",
              "    </tr>\n",
              "  </thead>\n",
              "  <tbody>\n",
              "    <tr>\n",
              "      <th>4</th>\n",
              "      <td>306455</td>\n",
              "    </tr>\n",
              "    <tr>\n",
              "      <th>6</th>\n",
              "      <td>197166</td>\n",
              "    </tr>\n",
              "    <tr>\n",
              "      <th>10</th>\n",
              "      <td>140956</td>\n",
              "    </tr>\n",
              "    <tr>\n",
              "      <th>1</th>\n",
              "      <td>129028</td>\n",
              "    </tr>\n",
              "    <tr>\n",
              "      <th>30</th>\n",
              "      <td>104628</td>\n",
              "    </tr>\n",
              "  </tbody>\n",
              "</table>\n",
              "</div>"
            ],
            "text/plain": [
              "          user_id\n",
              "track_id         \n",
              "4          306455\n",
              "6          197166\n",
              "10         140956\n",
              "1          129028\n",
              "30         104628"
            ]
          },
          "metadata": {
            "tags": []
          },
          "execution_count": 11
        }
      ]
    },
    {
      "cell_type": "code",
      "metadata": {
        "id": "Sn6FzI-_fvfA",
        "colab_type": "code",
        "colab": {}
      },
      "source": [
        "#итог: страница № 6 вторая по популярности после главного экрана,\n",
        "# ее просматривали 197166 пользователей"
      ],
      "execution_count": 0,
      "outputs": []
    },
    {
      "cell_type": "markdown",
      "metadata": {
        "id": "cNufVGS_a3zU",
        "colab_type": "text"
      },
      "source": [
        "Второе задание"
      ]
    },
    {
      "cell_type": "code",
      "metadata": {
        "id": "SVurqjy-cG-G",
        "colab_type": "code",
        "colab": {}
      },
      "source": [
        "#количество уникальных пользователей, посетивших тех. поддержку\n",
        "user_20 = df1[df1['track_id'] == 20]['user_id'].unique().shape[0]\n",
        "\n",
        "#количество всех уникальных пользователей\n",
        "user_all = df1['user_id'].unique().shape[0]"
      ],
      "execution_count": 0,
      "outputs": []
    },
    {
      "cell_type": "code",
      "metadata": {
        "id": "XMtLpzFkVEI2",
        "colab_type": "code",
        "outputId": "a3b47ecc-8adf-451c-fd05-ded0e624e03d",
        "colab": {
          "base_uri": "https://localhost:8080/",
          "height": 35
        }
      },
      "source": [
        "#найдем процент пользователей, посетивших тех.поддержку\n",
        "round(user_20 / user_all * 100)"
      ],
      "execution_count": 19,
      "outputs": [
        {
          "output_type": "execute_result",
          "data": {
            "text/plain": [
              "15"
            ]
          },
          "metadata": {
            "tags": []
          },
          "execution_count": 19
        }
      ]
    }
  ]
}