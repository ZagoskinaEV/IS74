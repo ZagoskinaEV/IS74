{
  "nbformat": 4,
  "nbformat_minor": 0,
  "metadata": {
    "colab": {
      "name": "Untitled10.ipynb",
      "provenance": []
    },
    "kernelspec": {
      "name": "python3",
      "display_name": "Python 3"
    }
  },
  "cells": [
    {
      "cell_type": "code",
      "metadata": {
        "id": "A5KOKCpRRS6c",
        "colab_type": "code",
        "colab": {}
      },
      "source": [
        "import pandas as pd\n",
        "df = pd.read_csv(\"drive/data/logs_mp_october.csv\")"
      ],
      "execution_count": 0,
      "outputs": []
    },
    {
      "cell_type": "code",
      "metadata": {
        "id": "Q-kl6eF4UXt1",
        "colab_type": "code",
        "colab": {}
      },
      "source": [
        "#выделим датафрейм с нужными нам столбцами\n",
        "df1 = df.loc[:,['track_id', 'user_id']]"
      ],
      "execution_count": 0,
      "outputs": []
    },
    {
      "cell_type": "code",
      "metadata": {
        "id": "lmwxtR05TwGt",
        "colab_type": "code",
        "colab": {
          "base_uri": "https://localhost:8080/",
          "height": 228
        },
        "outputId": "694889f2-2142-4fba-d9c2-3b1c18a454e4"
      },
      "source": [
        "#определим самую популярную страницу (после Главного экрана)\n",
        "#для этого вычислим сколько посещений совершалось на эту страницу\n",
        "df1.groupby(['track_id']).count().sort_values(['user_id'], ascending = False).head()"
      ],
      "execution_count": 71,
      "outputs": [
        {
          "output_type": "execute_result",
          "data": {
            "text/html": [
              "<div>\n",
              "<style scoped>\n",
              "    .dataframe tbody tr th:only-of-type {\n",
              "        vertical-align: middle;\n",
              "    }\n",
              "\n",
              "    .dataframe tbody tr th {\n",
              "        vertical-align: top;\n",
              "    }\n",
              "\n",
              "    .dataframe thead th {\n",
              "        text-align: right;\n",
              "    }\n",
              "</style>\n",
              "<table border=\"1\" class=\"dataframe\">\n",
              "  <thead>\n",
              "    <tr style=\"text-align: right;\">\n",
              "      <th></th>\n",
              "      <th>user_id</th>\n",
              "    </tr>\n",
              "    <tr>\n",
              "      <th>track_id</th>\n",
              "      <th></th>\n",
              "    </tr>\n",
              "  </thead>\n",
              "  <tbody>\n",
              "    <tr>\n",
              "      <th>4</th>\n",
              "      <td>6617992</td>\n",
              "    </tr>\n",
              "    <tr>\n",
              "      <th>1</th>\n",
              "      <td>1596700</td>\n",
              "    </tr>\n",
              "    <tr>\n",
              "      <th>2</th>\n",
              "      <td>1333464</td>\n",
              "    </tr>\n",
              "    <tr>\n",
              "      <th>10</th>\n",
              "      <td>1294088</td>\n",
              "    </tr>\n",
              "    <tr>\n",
              "      <th>135</th>\n",
              "      <td>1126620</td>\n",
              "    </tr>\n",
              "  </tbody>\n",
              "</table>\n",
              "</div>"
            ],
            "text/plain": [
              "          user_id\n",
              "track_id         \n",
              "4         6617992\n",
              "1         1596700\n",
              "2         1333464\n",
              "10        1294088\n",
              "135       1126620"
            ]
          },
          "metadata": {
            "tags": []
          },
          "execution_count": 71
        }
      ]
    },
    {
      "cell_type": "code",
      "metadata": {
        "id": "Sn6FzI-_fvfA",
        "colab_type": "code",
        "colab": {}
      },
      "source": [
        "#итог: страница № 1 вторая по популярности после главного экрана"
      ],
      "execution_count": 0,
      "outputs": []
    },
    {
      "cell_type": "code",
      "metadata": {
        "id": "c1R-k04mf5Dt",
        "colab_type": "code",
        "colab": {
          "base_uri": "https://localhost:8080/",
          "height": 35
        },
        "outputId": "61e23348-1328-4920-af7a-8689fed4c5a7"
      },
      "source": [
        "#определим сколько пользователей посещало эту страницу\n",
        "df1[df1['track_id'] == 1]['user_id'].unique().shape[0]"
      ],
      "execution_count": 73,
      "outputs": [
        {
          "output_type": "execute_result",
          "data": {
            "text/plain": [
              "129028"
            ]
          },
          "metadata": {
            "tags": []
          },
          "execution_count": 73
        }
      ]
    },
    {
      "cell_type": "markdown",
      "metadata": {
        "id": "cNufVGS_a3zU",
        "colab_type": "text"
      },
      "source": [
        "Второе задание"
      ]
    },
    {
      "cell_type": "code",
      "metadata": {
        "id": "SVurqjy-cG-G",
        "colab_type": "code",
        "colab": {}
      },
      "source": [
        "#количество уникальных пользователей, посетивших тех. поддержку\n",
        "user_20 = df1[df1['track_id'] == 20]['user_id'].unique().shape[0]\n",
        "\n",
        "#количество всех уникальных пользователей\n",
        "user_all = df1['user_id'].unique().shape[0]"
      ],
      "execution_count": 0,
      "outputs": []
    },
    {
      "cell_type": "code",
      "metadata": {
        "id": "XMtLpzFkVEI2",
        "colab_type": "code",
        "colab": {
          "base_uri": "https://localhost:8080/",
          "height": 35
        },
        "outputId": "93e32307-0d60-47cc-c12f-06cfacdc62f8"
      },
      "source": [
        "#найдем процент пользователей, посетивших тех.поддержку\n",
        "user_20 / user_all * 100"
      ],
      "execution_count": 75,
      "outputs": [
        {
          "output_type": "execute_result",
          "data": {
            "text/plain": [
              "15.031065588686406"
            ]
          },
          "metadata": {
            "tags": []
          },
          "execution_count": 75
        }
      ]
    }
  ]
}